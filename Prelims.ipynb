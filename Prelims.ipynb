{
 "nbformat": 4,
 "nbformat_minor": 2,
 "metadata": {
  "language_info": {
   "name": "python",
   "codemirror_mode": {
    "name": "ipython",
    "version": 3
   },
   "version": "3.7.5-final"
  },
  "orig_nbformat": 2,
  "file_extension": ".py",
  "mimetype": "text/x-python",
  "name": "python",
  "npconvert_exporter": "python",
  "pygments_lexer": "ipython3",
  "version": 3,
  "kernelspec": {
   "name": "python37564bitvenvvenva4cbc10134f547539a36e199bad7bf96",
   "display_name": "Python 3.7.5 64-bit ('venv': venv)"
  }
 },
 "cells": [
  {
   "cell_type": "code",
   "execution_count": 2,
   "metadata": {},
   "outputs": [],
   "source": [
    "import numpy as np\n",
    "import pandas as pd\n",
    "from sklearn.decomposition import LatentDirichletAllocation\n",
    "import matplotlib.pyplot as plt\n",
    "import colorgram\n",
    "from PIL import Image\n",
    "import bandcamp_webtools as bw\n",
    "import os\n",
    "import pickle\n",
    "from tqdm import tqdm"
   ]
  },
  {
   "cell_type": "markdown",
   "metadata": {},
   "source": [
    "The first thing we need to do is figure out a good colorgram size. Let's load a small subset of images."
   ]
  },
  {
   "cell_type": "code",
   "execution_count": 5,
   "metadata": {},
   "outputs": [],
   "source": [
    "covers = os.listdir('./covers/')\n",
    "covers = covers[:10]\n",
    "\n",
    "imgs = []\n",
    "dats = []\n",
    "for cover in covers:\n",
    "    with open(f'./covers/{cover}', 'rb') as f:\n",
    "        dat = pickle.load(f)\n",
    "        imgs.append(dat['cover'])\n",
    "        dats.append(dat)\n"
   ]
  },
  {
   "cell_type": "code",
   "execution_count": 19,
   "metadata": {},
   "outputs": [],
   "source": [
    "def make_colorgram(image_array, n=6):\n",
    "    img = Image.fromarray(image_array)\n",
    "    cs = colorgram.extract(img, n)\n",
    "    cs = [color.rgb for color in cs]\n",
    "    return cs"
   ]
  },
  {
   "cell_type": "markdown",
   "metadata": {},
   "source": [
    "A test to see if $n$ colorgrams are close enough to the first $n$ of a $k > n$ colorgram."
   ]
  },
  {
   "cell_type": "code",
   "execution_count": 21,
   "metadata": {},
   "outputs": [
    {
     "name": "stderr",
     "output_type": "stream",
     "text": "100%|██████████| 10/10 [00:17<00:00,  1.71s/it]\n100%|██████████| 15/15 [00:28<00:00,  1.89s/it]\n100%|██████████| 15/15 [00:34<00:00,  2.31s/it]\n100%|██████████| 15/15 [00:36<00:00,  2.40s/it]\n100%|██████████| 15/15 [00:22<00:00,  1.50s/it]\n100%|██████████| 15/15 [00:15<00:00,  1.01s/it]\n100%|██████████| 15/15 [00:39<00:00,  2.61s/it]\n100%|██████████| 15/15 [00:35<00:00,  2.34s/it]\n100%|██████████| 15/15 [00:03<00:00,  3.75it/s]\n100%|██████████| 15/15 [00:21<00:00,  1.43s/it]\n100%|██████████| 15/15 [00:36<00:00,  2.47s/it]1.0\n\n"
    }
   ],
   "source": [
    "test_range = 30\n",
    "up_to = 15\n",
    "\n",
    "test_results = []\n",
    "big_grams = []\n",
    "for im in tqdm(imgs):\n",
    "    big_grams.append(make_colorgram(im, 30))\n",
    "\n",
    "for i in (range(len(imgs))):\n",
    "    for n in tqdm(range(up_to)):\n",
    "        cg = make_colorgram(imgs[i], n)\n",
    "        test_results.append(cg == big_grams[i][:n])\n",
    "print(sum(test_results) / len(test_results))\n",
    "        \n"
   ]
  },
  {
   "cell_type": "markdown",
   "metadata": {},
   "source": [
    "Okay so I'll just make generally big ones and trim them down later if I need to."
   ]
  },
  {
   "cell_type": "code",
   "execution_count": 4,
   "metadata": {},
   "outputs": [
    {
     "name": "stderr",
     "output_type": "stream",
     "text": "100%|██████████| 25006/25006 [00:26<00:00, 956.61it/s]\n"
    },
    {
     "data": {
      "text/html": "<div>\n<style scoped>\n    .dataframe tbody tr th:only-of-type {\n        vertical-align: middle;\n    }\n\n    .dataframe tbody tr th {\n        vertical-align: top;\n    }\n\n    .dataframe thead th {\n        text-align: right;\n    }\n</style>\n<table border=\"1\" class=\"dataframe\">\n  <thead>\n    <tr style=\"text-align: right;\">\n      <th></th>\n      <th>title</th>\n      <th>artist</th>\n      <th>tags</th>\n      <th>album</th>\n      <th>url</th>\n      <th>store</th>\n      <th>colorgram</th>\n    </tr>\n  </thead>\n  <tbody>\n    <tr>\n      <th>0</th>\n      <td>Gentrification III: Death and Displacement</td>\n      <td>Street Sects</td>\n      <td>[electronic, industrial metal, metal, noise, p...</td>\n      <td>gentrification-iii-death-and-displacement</td>\n      <td>https://streetsects.bandcamp.com/album/gentrif...</td>\n      <td>streetsects</td>\n      <td>[(253, 253, 253), (5, 5, 5), (94, 94, 94), (16...</td>\n    </tr>\n    <tr>\n      <th>1</th>\n      <td>Looking For Today</td>\n      <td>The Rare Breed</td>\n      <td>[rock, classic rock, doom, grunge, hard rock, ...</td>\n      <td>looking-for-today</td>\n      <td>https://ripplemusic.bandcamp.com/album/looking...</td>\n      <td>ripplemusic</td>\n      <td>[(2, 1, 1), (111, 81, 113), (43, 25, 51), (166...</td>\n    </tr>\n    <tr>\n      <th>2</th>\n      <td>Drum Loops Volume 1</td>\n      <td>The Polish Ambassador</td>\n      <td>[experimental, beat packs, breakbeat, david su...</td>\n      <td>drum-loops-volume-1</td>\n      <td>https://thepolishambassador.bandcamp.com/album...</td>\n      <td>thepolishambassador</td>\n      <td>[(246, 229, 155), (9, 34, 46), (55, 115, 85), ...</td>\n    </tr>\n    <tr>\n      <th>3</th>\n      <td>Destination Infinite</td>\n      <td>MindSpring Memories</td>\n      <td>[80s, 90s, diy, electronic, experimental, avan...</td>\n      <td>destination-infinite</td>\n      <td>https://swampcircle.bandcamp.com/album/destina...</td>\n      <td>swampcircle</td>\n      <td>[(251, 224, 243), (246, 246, 196), (101, 240, ...</td>\n    </tr>\n    <tr>\n      <th>4</th>\n      <td>Osaru no e​.​p. (neji​-​135)</td>\n      <td>Satanicpornocultshop</td>\n      <td>[electronic, footwork, ghettotech, juke, juke ...</td>\n      <td>osaru-no-e-p-neji-135</td>\n      <td>https://satanicpornocultshop.bandcamp.com/albu...</td>\n      <td>satanicpornocultshop</td>\n      <td>[(248, 241, 231), (56, 43, 26), (127, 85, 55),...</td>\n    </tr>\n  </tbody>\n</table>\n</div>",
      "text/plain": "                                        title                 artist  \\\n0  Gentrification III: Death and Displacement           Street Sects   \n1                           Looking For Today         The Rare Breed   \n2                         Drum Loops Volume 1  The Polish Ambassador   \n3                        Destination Infinite    MindSpring Memories   \n4                Osaru no e​.​p. (neji​-​135)   Satanicpornocultshop   \n\n                                                tags  \\\n0  [electronic, industrial metal, metal, noise, p...   \n1  [rock, classic rock, doom, grunge, hard rock, ...   \n2  [experimental, beat packs, breakbeat, david su...   \n3  [80s, 90s, diy, electronic, experimental, avan...   \n4  [electronic, footwork, ghettotech, juke, juke ...   \n\n                                       album  \\\n0  gentrification-iii-death-and-displacement   \n1                          looking-for-today   \n2                        drum-loops-volume-1   \n3                       destination-infinite   \n4                      osaru-no-e-p-neji-135   \n\n                                                 url                 store  \\\n0  https://streetsects.bandcamp.com/album/gentrif...           streetsects   \n1  https://ripplemusic.bandcamp.com/album/looking...           ripplemusic   \n2  https://thepolishambassador.bandcamp.com/album...   thepolishambassador   \n3  https://swampcircle.bandcamp.com/album/destina...           swampcircle   \n4  https://satanicpornocultshop.bandcamp.com/albu...  satanicpornocultshop   \n\n                                           colorgram  \n0  [(253, 253, 253), (5, 5, 5), (94, 94, 94), (16...  \n1  [(2, 1, 1), (111, 81, 113), (43, 25, 51), (166...  \n2  [(246, 229, 155), (9, 34, 46), (55, 115, 85), ...  \n3  [(251, 224, 243), (246, 246, 196), (101, 240, ...  \n4  [(248, 241, 231), (56, 43, 26), (127, 85, 55),...  "
     },
     "execution_count": 4,
     "metadata": {},
     "output_type": "execute_result"
    }
   ],
   "source": [
    "data_dict = {}\n",
    "for dat in tqdm(os.listdir('./colorgrams/')):\n",
    "    with open(f'./colorgrams/{dat}', 'rb') as f:\n",
    "        packet = pickle.load(f)\n",
    "        for key in packet:\n",
    "            try:\n",
    "                data_dict[key].append(packet[key])\n",
    "            except KeyError:\n",
    "                data_dict[key] = [packet[key]]\n",
    "\n",
    "df = pd.DataFrame(data_dict)\n",
    "df.head()\n",
    "            "
   ]
  },
  {
   "cell_type": "code",
   "execution_count": 23,
   "metadata": {},
   "outputs": [
    {
     "name": "stdout",
     "output_type": "stream",
     "text": "662845\n347638\n"
    },
    {
     "data": {
      "text/plain": "array([[  0,   0,   0],\n       [  0,   0,   2],\n       [  0,   0,   3],\n       ...,\n       [255, 254, 253],\n       [255, 254, 255],\n       [255, 255, 255]])"
     },
     "execution_count": 23,
     "metadata": {},
     "output_type": "execute_result"
    }
   ],
   "source": [
    "all_colors = df['colorgram'].values\n",
    "all_colors = [col for cg in all_colors for col in cg]\n",
    "print(len(all_colors))\n",
    "print(len(np.unique(all_colors, axis=0)))\n",
    "np.unique(all_colors, axis=0)"
   ]
  }
 ]
}